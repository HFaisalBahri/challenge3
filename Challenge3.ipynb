{
 "cells": [
  {
   "cell_type": "code",
   "execution_count": 17,
   "id": "7566b9eb",
   "metadata": {},
   "outputs": [],
   "source": [
    "# Import library yang diperlukan\n",
    "import pandas as pd\n",
    "from sklearn.model_selection import train_test_split\n",
    "from sklearn.preprocessing import LabelEncoder\n",
    "from sklearn.naive_bayes import GaussianNB\n",
    "from sklearn.neighbors import KNeighborsClassifier\n",
    "from sklearn.tree import DecisionTreeClassifier\n",
    "from sklearn.metrics import confusion_matrix, accuracy_score, classification_report\n",
    "from sklearn.feature_selection import mutual_info_classif\n",
    "import warnings\n",
    "warnings.filterwarnings(\"ignore\", category=FutureWarning)"
   ]
  },
  {
   "cell_type": "code",
   "execution_count": 2,
   "id": "89ffc9af",
   "metadata": {},
   "outputs": [],
   "source": [
    "# 1. Load data\n",
    "data = pd.read_csv('datasets-jadi.csv') \n"
   ]
  },
  {
   "cell_type": "code",
   "execution_count": 3,
   "id": "2d7573da",
   "metadata": {},
   "outputs": [],
   "source": [
    "# 2. Praproses Data\n",
    "# Hapus kolom yang tidak diperlukan\n",
    "data_cleaned = data.drop(columns=[\"NO\", \"NAMA\"]).dropna()"
   ]
  },
  {
   "cell_type": "code",
   "execution_count": 4,
   "id": "4c300aa6",
   "metadata": {},
   "outputs": [],
   "source": [
    "# Encode kolom kategori menjadi numerik\n",
    "label_encoders = {}\n",
    "for column in data_cleaned.columns:\n",
    "    if data_cleaned[column].dtype == 'object':\n",
    "        le = LabelEncoder()\n",
    "        data_cleaned[column] = le.fit_transform(data_cleaned[column])\n",
    "        label_encoders[column] = le"
   ]
  },
  {
   "cell_type": "code",
   "execution_count": 5,
   "id": "406f579d",
   "metadata": {},
   "outputs": [],
   "source": [
    "# Pisahkan fitur dan target\n",
    "X = data_cleaned.drop(columns=\"PE/Non PE\")\n",
    "y = data_cleaned[\"PE/Non PE\"]"
   ]
  },
  {
   "cell_type": "code",
   "execution_count": 6,
   "id": "5d5e6569",
   "metadata": {},
   "outputs": [],
   "source": [
    "# Bagi data menjadi train dan test (70% train, 30% test)\n",
    "X_train, X_test, y_train, y_test = train_test_split(X, y, test_size=0.3, random_state=42)\n"
   ]
  },
  {
   "cell_type": "code",
   "execution_count": 7,
   "id": "1f4536ae",
   "metadata": {},
   "outputs": [
    {
     "data": {
      "text/plain": [
       "GaussianNB()"
      ]
     },
     "execution_count": 7,
     "metadata": {},
     "output_type": "execute_result"
    }
   ],
   "source": [
    "# 3. Modeling dengan Naive Bayes\n",
    "# Melatih model Naive Bayes\n",
    "nb_model = GaussianNB()\n",
    "nb_model.fit(X_train, y_train)"
   ]
  },
  {
   "cell_type": "code",
   "execution_count": 8,
   "id": "7a4b1622",
   "metadata": {},
   "outputs": [],
   "source": [
    "# Prediksi dan evaluasi Naive Bayes\n",
    "y_pred_nb = nb_model.predict(X_test)\n",
    "conf_matrix_nb = confusion_matrix(y_test, y_pred_nb)\n",
    "accuracy_nb = accuracy_score(y_test, y_pred_nb)\n",
    "classification_report_nb = classification_report(y_test, y_pred_nb)"
   ]
  },
  {
   "cell_type": "code",
   "execution_count": 9,
   "id": "827d9e51",
   "metadata": {},
   "outputs": [
    {
     "name": "stdout",
     "output_type": "stream",
     "text": [
      "Naive Bayes Confusion Matrix:\n",
      " [[  1 152]\n",
      " [  3  13]]\n",
      "Naive Bayes Accuracy: 0.08284023668639054\n",
      "Naive Bayes Classification Report:\n",
      "               precision    recall  f1-score   support\n",
      "\n",
      "           0       0.25      0.01      0.01       153\n",
      "           1       0.08      0.81      0.14        16\n",
      "\n",
      "    accuracy                           0.08       169\n",
      "   macro avg       0.16      0.41      0.08       169\n",
      "weighted avg       0.23      0.08      0.03       169\n",
      "\n"
     ]
    }
   ],
   "source": [
    "print(\"Naive Bayes Confusion Matrix:\\n\", conf_matrix_nb)\n",
    "print(\"Naive Bayes Accuracy:\", accuracy_nb)\n",
    "print(\"Naive Bayes Classification Report:\\n\", classification_report_nb)\n"
   ]
  },
  {
   "cell_type": "code",
   "execution_count": 10,
   "id": "96863220",
   "metadata": {},
   "outputs": [],
   "source": [
    "# 4. Seleksi Fitur Menggunakan Information Gain\n",
    "# Hitung Information Gain untuk setiap fitur\n",
    "info_gain = mutual_info_classif(X, y)\n",
    "info_gain_series = pd.Series(info_gain, index=X.columns).sort_values(ascending=False)\n"
   ]
  },
  {
   "cell_type": "code",
   "execution_count": 11,
   "id": "3fdc9a9b",
   "metadata": {},
   "outputs": [],
   "source": [
    "# Pilih fitur terbaik berdasarkan Information Gain\n",
    "top_features = info_gain_series.head(5).index  # Misalnya, pilih 5 fitur teratas\n",
    "X_top_features = X[top_features]"
   ]
  },
  {
   "cell_type": "code",
   "execution_count": 12,
   "id": "9eef5708",
   "metadata": {},
   "outputs": [],
   "source": [
    "# Bagi ulang data dengan fitur terpilih\n",
    "X_train_top, X_test_top, y_train_top, y_test_top = train_test_split(X_top_features, y, test_size=0.3, random_state=42)\n"
   ]
  },
  {
   "cell_type": "code",
   "execution_count": 18,
   "id": "b6a10c08",
   "metadata": {},
   "outputs": [],
   "source": [
    "# 5. Modeling dan Evaluasi dengan KNN dan Decision Tree\n",
    "# Model KNN\n",
    "knn_model = KNeighborsClassifier()\n",
    "knn_model.fit(X_train_top, y_train_top)\n",
    "y_pred_knn = knn_model.predict(X_test_top)\n",
    "accuracy_knn = accuracy_score(y_test_top, y_pred_knn)\n"
   ]
  },
  {
   "cell_type": "code",
   "execution_count": 19,
   "id": "898321ac",
   "metadata": {},
   "outputs": [],
   "source": [
    "# Model Decision Tree\n",
    "dt_model = DecisionTreeClassifier()\n",
    "dt_model.fit(X_train_top, y_train_top)\n",
    "y_pred_dt = dt_model.predict(X_test_top)\n",
    "accuracy_dt = accuracy_score(y_test_top, y_pred_dt)\n"
   ]
  },
  {
   "cell_type": "code",
   "execution_count": 20,
   "id": "18471696",
   "metadata": {},
   "outputs": [
    {
     "name": "stdout",
     "output_type": "stream",
     "text": [
      "Naive Bayes Accuracy: 0.08284023668639054\n",
      "KNN Accuracy: 0.9053254437869822\n",
      "Decision Tree Accuracy: 0.9230769230769231\n",
      "\n",
      "Information Gain per Feature:\n",
      " RIW HIPERTENSI                      0.105071\n",
      "RIW PE                              0.086013\n",
      "JARAK KELAHIRAN                     0.015420\n",
      "RIW HIPERTENSI/PE DALAM KELUARGA    0.011479\n",
      "USIA                                0.000000\n",
      "PARITAS                             0.000000\n",
      "OBESITAS                            0.000000\n",
      "RIW DM                              0.000000\n",
      "SOSEK RENDAH                        0.000000\n",
      "dtype: float64\n"
     ]
    }
   ],
   "source": [
    "# 6. Hasil dan Perbandingan Akurasi\n",
    "print(\"Naive Bayes Accuracy:\", accuracy_nb)\n",
    "print(\"KNN Accuracy:\", accuracy_knn)\n",
    "print(\"Decision Tree Accuracy:\", accuracy_dt)\n",
    "print(\"\\nInformation Gain per Feature:\\n\", info_gain_series)"
   ]
  },
  {
   "cell_type": "code",
   "execution_count": null,
   "id": "3696b012",
   "metadata": {},
   "outputs": [],
   "source": []
  }
 ],
 "metadata": {
  "kernelspec": {
   "display_name": "Python 3 (ipykernel)",
   "language": "python",
   "name": "python3"
  },
  "language_info": {
   "codemirror_mode": {
    "name": "ipython",
    "version": 3
   },
   "file_extension": ".py",
   "mimetype": "text/x-python",
   "name": "python",
   "nbconvert_exporter": "python",
   "pygments_lexer": "ipython3",
   "version": "3.9.13"
  }
 },
 "nbformat": 4,
 "nbformat_minor": 5
}
